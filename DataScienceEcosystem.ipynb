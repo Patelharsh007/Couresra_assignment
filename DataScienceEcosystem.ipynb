{
 "cells": [
  {
   "cell_type": "markdown",
   "id": "41785530-1052-4db6-aa2b-81a93b9c1849",
   "metadata": {},
   "source": [
    "# Data Science Tools and Ecosystem"
   ]
  },
  {
   "cell_type": "markdown",
   "id": "c87028fb-7e09-4de5-835a-5f968e56ad0d",
   "metadata": {
    "tags": []
   },
   "source": [
    "In this notebook, Data Science Tools and Ecosystem are summarized."
   ]
  },
  {
   "cell_type": "markdown",
   "id": "42cfad78-09c7-46d6-87dc-2254ffe2978e",
   "metadata": {},
   "source": [
    "**Objectives:**\n",
    "\n",
    "- Explore popular languages for Data Science.\n",
    "- List commonly used Data Science libraries.\n",
    "- Introduce key Data Science development environment tools.\n",
    "- Demonstrate evaluating arithmetic expressions in Python.\n"
   ]
  },
  {
   "cell_type": "markdown",
   "id": "5b1640a2-facb-41a5-b263-3a95b9e0a7e8",
   "metadata": {
    "tags": []
   },
   "source": [
    "Some of the popular languages that Data Scientists use are:\n",
    "\n",
    "1. **Python**\n",
    "2. **R**\n",
    "3. **Julia**\n",
    "4. **SQL**\n"
   ]
  },
  {
   "cell_type": "markdown",
   "id": "b1bfbfb2-f76d-4884-ad72-1ad00706ef11",
   "metadata": {},
   "source": [
    "Some of the commonly used libraries used by Data Scientists include:\n",
    "\n",
    "  1. NumPy\n",
    "  2. Pandas\n",
    "  3. Matplotlib\n",
    "  4. Seaborn\n",
    "  5. Scikit-learn"
   ]
  },
  {
   "cell_type": "markdown",
   "id": "164445e4-927b-43fe-bf2f-5a4f0ca4bb31",
   "metadata": {},
   "source": [
    "| Data Science Tools       |\n",
    "|--------------------------|\n",
    "| Jupyter Notebook         |\n",
    "| R-Studio                  |\n",
    "| VS Code with Python      |\n"
   ]
  },
  {
   "cell_type": "markdown",
   "id": "af301ffc-93f3-4cce-9528-50ea8168bb9f",
   "metadata": {},
   "source": [
    "### Below are a few examples of evaluating arithmetic expressions in Python."
   ]
  },
  {
   "cell_type": "code",
   "execution_count": 2,
   "id": "62dc37d7-0759-4604-885e-080a62653e19",
   "metadata": {
    "tags": []
   },
   "outputs": [
    {
     "data": {
      "text/plain": [
       "17"
      ]
     },
     "execution_count": 2,
     "metadata": {},
     "output_type": "execute_result"
    }
   ],
   "source": [
    "#This a simple arithmetic expression to mutiply then add integers\n",
    "(3*4)+5"
   ]
  },
  {
   "cell_type": "code",
   "execution_count": 3,
   "id": "c8293a41-a781-4126-a593-77c787c75703",
   "metadata": {
    "tags": []
   },
   "outputs": [
    {
     "data": {
      "text/plain": [
       "3.3333333333333335"
      ]
     },
     "execution_count": 3,
     "metadata": {},
     "output_type": "execute_result"
    }
   ],
   "source": [
    "#This will convert 200 minutes to hours by diving by 60\n",
    "200/60"
   ]
  },
  {
   "cell_type": "markdown",
   "id": "c2d81e73-c944-4067-bd83-8562f8a625af",
   "metadata": {
    "tags": []
   },
   "source": [
    "## Author: ## Harsh\n"
   ]
  },
  {
   "cell_type": "code",
   "execution_count": null,
   "id": "a64facde-98ef-40fa-be06-c7995c00b319",
   "metadata": {},
   "outputs": [],
   "source": []
  }
 ],
 "metadata": {
  "kernelspec": {
   "display_name": "Python",
   "language": "python",
   "name": "conda-env-python-py"
  },
  "language_info": {
   "codemirror_mode": {
    "name": "ipython",
    "version": 3
   },
   "file_extension": ".py",
   "mimetype": "text/x-python",
   "name": "python",
   "nbconvert_exporter": "python",
   "pygments_lexer": "ipython3",
   "version": "3.7.12"
  }
 },
 "nbformat": 4,
 "nbformat_minor": 5
}
